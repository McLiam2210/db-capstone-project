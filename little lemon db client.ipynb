{
 "cells": [
  {
   "cell_type": "code",
   "execution_count": 1,
   "id": "780a2a59",
   "metadata": {},
   "outputs": [],
   "source": [
    "import mysql.connector as connector\n",
    "from mysql.connector import errorcode\n",
    "from mysql.connector.pooling import MySQLConnectionPool\n",
    "from mysql.connector import Error\n",
    "import datetime as dt"
   ]
  },
  {
   "cell_type": "code",
   "execution_count": 2,
   "id": "a965a6a8",
   "metadata": {},
   "outputs": [],
   "source": [
    "connection = connector.connect(user=\"liam\", password=\"password1\")\n",
    "cursor = connection.cursor()\n",
    "cursor.execute(\"USE LittleLemon\")"
   ]
  },
  {
   "cell_type": "code",
   "execution_count": 4,
   "id": "9788e9d9",
   "metadata": {},
   "outputs": [
    {
     "name": "stdout",
     "output_type": "stream",
     "text": [
      "('Tables_in_littlelemon',)\n",
      "('Bookings',)\n",
      "('customer',)\n",
      "('Employees',)\n",
      "('MenuItems',)\n",
      "('Menus',)\n",
      "('Orders',)\n",
      "('ordersview',)\n"
     ]
    }
   ],
   "source": [
    "show_tables_query = \"SHOW tables\" \n",
    "cursor.execute(show_tables_query)\n",
    "results = cursor.fetchall()\n",
    "print(cursor.column_names)\n",
    "for result in results:\n",
    "    print(result)"
   ]
  },
  {
   "cell_type": "code",
   "execution_count": 6,
   "id": "8ba6297d",
   "metadata": {},
   "outputs": [
    {
     "name": "stdout",
     "output_type": "stream",
     "text": [
      "('customerid', 'name', 'phone', 'email', 'TotalCost')\n",
      "(1, 'John Smith', '0400000000', 'dfg@gjedl.com', 86)\n"
     ]
    }
   ],
   "source": [
    "qry = \"\"\"\n",
    "select o.customerid, c.name, c.phone, c.email, o.billamount as TotalCost\n",
    "from orders as o\n",
    "join customer as c\n",
    "on o.customerid = c.customerid\n",
    "where billamount > 60;\n",
    "\"\"\"\n",
    "cursor.execute(qry)\n",
    "results = cursor.fetchall()\n",
    "print(cursor.column_names)\n",
    "for result in results:\n",
    "    print(result)"
   ]
  }
 ],
 "metadata": {
  "kernelspec": {
   "display_name": "Python 3 (ipykernel)",
   "language": "python",
   "name": "python3"
  },
  "language_info": {
   "codemirror_mode": {
    "name": "ipython",
    "version": 3
   },
   "file_extension": ".py",
   "mimetype": "text/x-python",
   "name": "python",
   "nbconvert_exporter": "python",
   "pygments_lexer": "ipython3",
   "version": "3.10.10"
  }
 },
 "nbformat": 4,
 "nbformat_minor": 5
}
